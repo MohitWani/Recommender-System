{
  "nbformat": 4,
  "nbformat_minor": 0,
  "metadata": {
    "colab": {
      "provenance": []
    },
    "kernelspec": {
      "name": "python3",
      "display_name": "Python 3"
    },
    "language_info": {
      "name": "python"
    },
    "accelerator": "GPU",
    "gpuClass": "standard"
  },
  "cells": [
    {
      "cell_type": "code",
      "execution_count": null,
      "metadata": {
        "id": "eGRAOi-V2SxI"
      },
      "outputs": [],
      "source": [
        "from google.colab import drive"
      ]
    },
    {
      "cell_type": "code",
      "source": [
        "drive.mount('/content/Drive')"
      ],
      "metadata": {
        "colab": {
          "base_uri": "https://localhost:8080/"
        },
        "id": "YLNF86Va25_6",
        "outputId": "bb81e101-b55e-41a7-f1da-9fcde80de17e"
      },
      "execution_count": null,
      "outputs": [
        {
          "output_type": "stream",
          "name": "stdout",
          "text": [
            "Mounted at /content/Drive\n"
          ]
        }
      ]
    },
    {
      "cell_type": "code",
      "source": [
        "import numpy as np\n",
        "import tensorflow as tf\n",
        "import tensorflow.keras\n",
        "import pandas as pd\n",
        "from numpy import loadtxt"
      ],
      "metadata": {
        "id": "4iL7czwD3GGv"
      },
      "execution_count": null,
      "outputs": []
    },
    {
      "cell_type": "code",
      "source": [
        "def load_dataset():\n",
        "\n",
        "  file = open('/content/Drive/MyDrive/data/collaborative_filtering/small_movies_X.csv','rb')\n",
        "  X = loadtxt(file, delimiter=',')\n",
        "\n",
        "  file = open('/content/Drive/MyDrive/data/collaborative_filtering/small_movies_W.csv','rb')\n",
        "  W = loadtxt(file, delimiter=',')\n",
        "\n",
        "  file = open('/content/Drive/MyDrive/data/collaborative_filtering/small_movies_b.csv','rb')\n",
        "  b = loadtxt(file, delimiter=',')\n",
        "  b = b.reshape(1,-1)\n",
        "\n",
        "  return (X,W,b)"
      ],
      "metadata": {
        "id": "MZ-Cx4dg8wS2"
      },
      "execution_count": null,
      "outputs": []
    },
    {
      "cell_type": "code",
      "source": [
        "X,W,b = load_dataset()"
      ],
      "metadata": {
        "id": "kjOrIecU9_JH"
      },
      "execution_count": null,
      "outputs": []
    },
    {
      "cell_type": "code",
      "source": [
        "print('shape of X is ',X.shape)\n",
        "print('shape of W is ',W.shape)\n",
        "print('shape of b is ',b.shape)"
      ],
      "metadata": {
        "colab": {
          "base_uri": "https://localhost:8080/"
        },
        "id": "WdlgAydl6weU",
        "outputId": "ffedffc8-1274-4a62-b62c-c125d941b8a6"
      },
      "execution_count": null,
      "outputs": [
        {
          "output_type": "stream",
          "name": "stdout",
          "text": [
            "shape of X is  (4778, 10)\n",
            "shape of W is  (443, 10)\n",
            "shape of b is  (1, 443)\n"
          ]
        }
      ]
    },
    {
      "cell_type": "code",
      "source": [
        "num_movies, num_features = X.shape\n",
        "num_user = W.shape[0]"
      ],
      "metadata": {
        "id": "U36qtqGS5UYq"
      },
      "execution_count": null,
      "outputs": []
    },
    {
      "cell_type": "code",
      "source": [
        "print('number of movies',num_movies)\n",
        "print('number of features',num_features)\n",
        "print('number of user',num_user)"
      ],
      "metadata": {
        "colab": {
          "base_uri": "https://localhost:8080/"
        },
        "id": "-m7m3bGG-QYz",
        "outputId": "44a87d70-d87a-40fd-f4d3-58b3be145d2d"
      },
      "execution_count": null,
      "outputs": [
        {
          "output_type": "stream",
          "name": "stdout",
          "text": [
            "number of movies 4778\n",
            "number of features 10\n",
            "number of user 443\n"
          ]
        }
      ]
    },
    {
      "cell_type": "code",
      "source": [
        "def load_ratings():\n",
        "    file = open('/content/Drive/MyDrive/data/collaborative_filtering/small_movies_Y.csv', 'rb')\n",
        "    Y = loadtxt(file,delimiter = \",\")\n",
        "\n",
        "    file = open('/content/Drive/MyDrive/data/collaborative_filtering/small_movies_R.csv', 'rb')\n",
        "    R = loadtxt(file,delimiter = \",\")\n",
        "    return(Y,R)"
      ],
      "metadata": {
        "id": "bJWHr8do52Zk"
      },
      "execution_count": null,
      "outputs": []
    },
    {
      "cell_type": "code",
      "source": [
        "Y,R = load_ratings()"
      ],
      "metadata": {
        "id": "lvYvnclIHM4r"
      },
      "execution_count": null,
      "outputs": []
    },
    {
      "cell_type": "code",
      "source": [
        "print('shape of R',R.shape)\n",
        "print('shape of Y',Y.shape)"
      ],
      "metadata": {
        "colab": {
          "base_uri": "https://localhost:8080/"
        },
        "id": "CmNma9GS5-PY",
        "outputId": "6269ba3a-f745-4c84-8e50-94e142c677f5"
      },
      "execution_count": null,
      "outputs": [
        {
          "output_type": "stream",
          "name": "stdout",
          "text": [
            "shape of R (4778, 443)\n",
            "shape of Y (4778, 443)\n"
          ]
        }
      ]
    },
    {
      "cell_type": "code",
      "source": [],
      "metadata": {
        "id": "Bljb9KNV-zJh"
      },
      "execution_count": null,
      "outputs": []
    },
    {
      "cell_type": "code",
      "source": [
        "def cost_cofi_func(X,Y,W,b,R,lamba):\n",
        "\n",
        "  j = (tf.linalg.matmul(X, tf.transpose(W)) + b - Y)*R\n",
        "  J = 0.5 * tf.reduce_sum(j**2) + (lamba/2) * (tf.reduce_sum(X**2) + tf.reduce_sum(W**2))\n",
        "  return J"
      ],
      "metadata": {
        "id": "knrY3QBxFs3F"
      },
      "execution_count": null,
      "outputs": []
    },
    {
      "cell_type": "code",
      "source": [
        "movieList = pd.read_csv('/content/Drive/MyDrive/data/collaborative_filtering/small_movie_lists.csv',header=0, index_col=0, delimiter=',', quotechar='\"')\n",
        "moviesList_df = movieList['title'].to_list()"
      ],
      "metadata": {
        "id": "GHUZoHDoMD8O"
      },
      "execution_count": null,
      "outputs": []
    },
    {
      "cell_type": "code",
      "source": [
        "my_ratings = np.zeros(num_movies)\n",
        "\n",
        "my_ratings[2700] = 5 \n",
        "my_ratings[2609] = 2\n",
        "my_ratings[929]  = 5 \n",
        "my_ratings[246]  = 5 \n",
        "my_ratings[2716] = 3\n",
        "my_ratings[1150] = 5 \n",
        "my_ratings[382]  = 2 \n",
        "my_ratings[366]  = 5\n",
        "my_ratings[622]  = 5 \n",
        "my_ratings[988]  = 3\n",
        "my_ratings[2925] = 1 \n",
        "my_ratings[2937] = 1\n",
        "my_ratings[793]  = 5\n",
        "\n",
        "my_rated = [i for i in range(len(my_ratings)) if my_ratings[i] > 0]\n",
        "\n",
        "print('\\nNew user ratings:\\n')\n",
        "for i in range(len(my_ratings)):\n",
        "    if my_ratings[i] > 0 :\n",
        "        print(f'Rated {my_ratings[i]} for  {moviesList_df[i]}');"
      ],
      "metadata": {
        "colab": {
          "base_uri": "https://localhost:8080/"
        },
        "id": "JcAjsNhiIU6H",
        "outputId": "6a5998fb-0350-43ea-f820-c991692cb07d"
      },
      "execution_count": null,
      "outputs": [
        {
          "output_type": "stream",
          "name": "stdout",
          "text": [
            "\n",
            "New user ratings:\n",
            "\n",
            "Rated 5.0 for  Shrek (2001)\n",
            "Rated 5.0 for  Harry Potter and the Sorcerer's Stone (a.k.a. Harry Potter and the Philosopher's Stone) (2001)\n",
            "Rated 2.0 for  Amelie (Fabuleux destin d'Amélie Poulain, Le) (2001)\n",
            "Rated 5.0 for  Harry Potter and the Chamber of Secrets (2002)\n",
            "Rated 5.0 for  Pirates of the Caribbean: The Curse of the Black Pearl (2003)\n",
            "Rated 5.0 for  Lord of the Rings: The Return of the King, The (2003)\n",
            "Rated 3.0 for  Eternal Sunshine of the Spotless Mind (2004)\n",
            "Rated 5.0 for  Incredibles, The (2004)\n",
            "Rated 2.0 for  Persuasion (2007)\n",
            "Rated 5.0 for  Toy Story 3 (2010)\n",
            "Rated 3.0 for  Inception (2010)\n",
            "Rated 1.0 for  Louis Theroux: Law & Disorder (2008)\n",
            "Rated 1.0 for  Nothing to Declare (Rien à déclarer) (2010)\n"
          ]
        }
      ]
    },
    {
      "cell_type": "code",
      "source": [
        "Y = np.c_[my_ratings,Y]\n",
        "\n",
        "R = np.c_[(my_ratings!=0).astype(int),R]"
      ],
      "metadata": {
        "id": "6a7JMruRIds6"
      },
      "execution_count": null,
      "outputs": []
    },
    {
      "cell_type": "code",
      "source": [
        "Y_mean = (np.sum(Y*R,axis=1)/(np.sum(R, axis=1)+1e-12)).reshape(-1,1)\n",
        "Ynorm = Y - np.multiply(Y_mean, R) "
      ],
      "metadata": {
        "id": "6kfzzh6cGQnA"
      },
      "execution_count": null,
      "outputs": []
    },
    {
      "cell_type": "code",
      "source": [
        "num_movies, num_user = Y.shape\n",
        "\n",
        "num_features = 100\n",
        "\n",
        "W = tf.Variable(tf.random.normal((num_user,num_features),dtype = tf.float64),name = 'W')\n",
        "X = tf.Variable(tf.random.normal((num_movies,num_features),dtype = tf.float64),name = 'X')\n",
        "b = tf.Variable(tf.random.normal((1,num_user),dtype = tf.float64),name = 'b')"
      ],
      "metadata": {
        "id": "BvlgdKlbGdsj"
      },
      "execution_count": null,
      "outputs": []
    },
    {
      "cell_type": "code",
      "source": [
        "optimizer = tf.keras.optimizers.Adam(learning_rate = 1e-1)"
      ],
      "metadata": {
        "id": "BBIwhehcGu7j"
      },
      "execution_count": null,
      "outputs": []
    },
    {
      "cell_type": "code",
      "source": [
        "iteration = 200\n",
        "lambda_ = 1\n",
        "\n",
        "for i in range(iteration):\n",
        "  with tensorflow.GradientTape() as tape:\n",
        "\n",
        "    cost = cost_cofi_func(X,Ynorm,W,b,R,lambda_)\n",
        "\n",
        "  grads = tape.gradient( cost, [X,W,b] )\n",
        "  optimizer.apply_gradients( zip(grads, [X,W,b]) )\n",
        "\n",
        "  if i % 20 == 0:\n",
        "        print(f\"Training loss at iteration {i}: {cost:0.1f}\")"
      ],
      "metadata": {
        "colab": {
          "base_uri": "https://localhost:8080/"
        },
        "id": "Z7987n8Kppgo",
        "outputId": "fcda5650-b76c-4e2c-9acd-ac9d95117591"
      },
      "execution_count": null,
      "outputs": [
        {
          "output_type": "stream",
          "name": "stdout",
          "text": [
            "Training loss at iteration 0: 2289811.6\n",
            "Training loss at iteration 20: 135137.8\n",
            "Training loss at iteration 40: 51595.2\n",
            "Training loss at iteration 60: 24428.7\n",
            "Training loss at iteration 80: 13477.0\n",
            "Training loss at iteration 100: 8353.3\n",
            "Training loss at iteration 120: 5694.1\n",
            "Training loss at iteration 140: 4216.3\n",
            "Training loss at iteration 160: 3355.5\n",
            "Training loss at iteration 180: 2835.7\n"
          ]
        }
      ]
    },
    {
      "cell_type": "code",
      "source": [
        "p = np.matmul(X.numpy(), np.transpose(W.numpy())) + b.numpy()\n",
        "\n",
        "#restore the mean\n",
        "pm = p + Y_mean\n",
        "\n",
        "my_predictions = pm[:,0]\n",
        "\n",
        "# sort predictions\n",
        "ix = tf.argsort(my_predictions, direction='DESCENDING')\n"
      ],
      "metadata": {
        "id": "JhXo6lcYrrMs"
      },
      "execution_count": null,
      "outputs": []
    },
    {
      "cell_type": "code",
      "source": [
        "for i in range(17):\n",
        "  j = ix[i]\n",
        "  if j not in my_rated:\n",
        "    print(f'my prediction {my_predictions[j]:0.2f} for {moviesList_df[j]}')"
      ],
      "metadata": {
        "colab": {
          "base_uri": "https://localhost:8080/"
        },
        "id": "WZinBfggsyRP",
        "outputId": "75647ff1-be20-4918-e959-02612ae4faaa"
      },
      "execution_count": null,
      "outputs": [
        {
          "output_type": "stream",
          "name": "stdout",
          "text": [
            "my prediction 4.43 for Colourful (Karafuru) (2010)\n",
            "my prediction 4.35 for Kung Fu Panda: Secrets of the Masters (2011)\n",
            "my prediction 4.34 for Particle Fever (2013)\n",
            "my prediction 4.34 for The Girl with All the Gifts (2016)\n",
            "my prediction 4.33 for Human (2015)\n",
            "my prediction 4.33 for Into the Forest of Fireflies' Light (2011)\n",
            "my prediction 4.33 for Seve (2014)\n",
            "my prediction 4.33 for Max Manus (2008)\n",
            "my prediction 4.33 for Bossa Nova (2000)\n",
            "my prediction 4.33 for Tickling Giants (2017)\n"
          ]
        }
      ]
    },
    {
      "cell_type": "code",
      "source": [
        "filter = (movieList['number of ratings']>20)\n",
        "movieList['pred'] = my_predictions\n",
        "movieList = movieList.reindex(columns=['pred','mean rating','number of ratings','title'])\n",
        "movieList.loc[ix[:300]].loc[filter].sort_values(\"mean rating\", ascending=False)"
      ],
      "metadata": {
        "id": "yZWvC1HpuHB9",
        "colab": {
          "base_uri": "https://localhost:8080/",
          "height": 739
        },
        "outputId": "dcd72df7-d7d7-49ec-b04f-6f141882082b"
      },
      "execution_count": null,
      "outputs": [
        {
          "output_type": "execute_result",
          "data": {
            "text/plain": [
              "          pred  mean rating  number of ratings  \\\n",
              "2112  3.931116     4.238255                149   \n",
              "676   3.968791     4.146667                 75   \n",
              "2395  3.968816     4.136364                 88   \n",
              "929   4.876224     4.118919                185   \n",
              "2700  4.790935     4.109091                 55   \n",
              "393   4.081565     4.106061                198   \n",
              "653   3.833626     4.021277                188   \n",
              "3083  3.953273     3.993421                 76   \n",
              "2804  4.058692     3.989362                 47   \n",
              "1142  3.848549     3.986842                 38   \n",
              "785   3.839013     3.974138                 58   \n",
              "1756  3.951539     3.945312                 64   \n",
              "1051  4.043038     3.913978                 93   \n",
              "2967  3.847345     3.910000                 50   \n",
              "2455  3.837861     3.887931                 58   \n",
              "246   4.897678     3.867647                170   \n",
              "2403  4.098567     3.864407                 59   \n",
              "1930  3.863261     3.862069                 58   \n",
              "1150  4.891619     3.836000                125   \n",
              "793   4.870530     3.778523                149   \n",
              "366   4.840266     3.761682                107   \n",
              "622   4.916328     3.598039                102   \n",
              "\n",
              "                                                  title  \n",
              "2112                            Dark Knight, The (2008)  \n",
              "676                 City of God (Cidade de Deus) (2002)  \n",
              "2395                        Inglourious Basterds (2009)  \n",
              "929   Lord of the Rings: The Return of the King, The...  \n",
              "2700                                 Toy Story 3 (2010)  \n",
              "393   Lord of the Rings: The Fellowship of the Ring,...  \n",
              "653       Lord of the Rings: The Two Towers, The (2002)  \n",
              "3083                      Dark Knight Rises, The (2012)  \n",
              "2804  Harry Potter and the Deathly Hallows: Part 1 (...  \n",
              "1142                               The Machinist (2004)  \n",
              "785                                28 Days Later (2002)  \n",
              "1756                             Children of Men (2006)  \n",
              "1051    Harry Potter and the Prisoner of Azkaban (2004)  \n",
              "2967  Harry Potter and the Deathly Hallows: Part 2 (...  \n",
              "2455      Harry Potter and the Half-Blood Prince (2009)  \n",
              "246                                        Shrek (2001)  \n",
              "2403                                   Star Trek (2009)  \n",
              "1930   Harry Potter and the Order of the Phoenix (2007)  \n",
              "1150                            Incredibles, The (2004)  \n",
              "793   Pirates of the Caribbean: The Curse of the Bla...  \n",
              "366   Harry Potter and the Sorcerer's Stone (a.k.a. ...  \n",
              "622      Harry Potter and the Chamber of Secrets (2002)  "
            ],
            "text/html": [
              "\n",
              "  <div id=\"df-e179dc23-a997-404c-8528-2b8bfefc3ffd\">\n",
              "    <div class=\"colab-df-container\">\n",
              "      <div>\n",
              "<style scoped>\n",
              "    .dataframe tbody tr th:only-of-type {\n",
              "        vertical-align: middle;\n",
              "    }\n",
              "\n",
              "    .dataframe tbody tr th {\n",
              "        vertical-align: top;\n",
              "    }\n",
              "\n",
              "    .dataframe thead th {\n",
              "        text-align: right;\n",
              "    }\n",
              "</style>\n",
              "<table border=\"1\" class=\"dataframe\">\n",
              "  <thead>\n",
              "    <tr style=\"text-align: right;\">\n",
              "      <th></th>\n",
              "      <th>pred</th>\n",
              "      <th>mean rating</th>\n",
              "      <th>number of ratings</th>\n",
              "      <th>title</th>\n",
              "    </tr>\n",
              "  </thead>\n",
              "  <tbody>\n",
              "    <tr>\n",
              "      <th>2112</th>\n",
              "      <td>3.931116</td>\n",
              "      <td>4.238255</td>\n",
              "      <td>149</td>\n",
              "      <td>Dark Knight, The (2008)</td>\n",
              "    </tr>\n",
              "    <tr>\n",
              "      <th>676</th>\n",
              "      <td>3.968791</td>\n",
              "      <td>4.146667</td>\n",
              "      <td>75</td>\n",
              "      <td>City of God (Cidade de Deus) (2002)</td>\n",
              "    </tr>\n",
              "    <tr>\n",
              "      <th>2395</th>\n",
              "      <td>3.968816</td>\n",
              "      <td>4.136364</td>\n",
              "      <td>88</td>\n",
              "      <td>Inglourious Basterds (2009)</td>\n",
              "    </tr>\n",
              "    <tr>\n",
              "      <th>929</th>\n",
              "      <td>4.876224</td>\n",
              "      <td>4.118919</td>\n",
              "      <td>185</td>\n",
              "      <td>Lord of the Rings: The Return of the King, The...</td>\n",
              "    </tr>\n",
              "    <tr>\n",
              "      <th>2700</th>\n",
              "      <td>4.790935</td>\n",
              "      <td>4.109091</td>\n",
              "      <td>55</td>\n",
              "      <td>Toy Story 3 (2010)</td>\n",
              "    </tr>\n",
              "    <tr>\n",
              "      <th>393</th>\n",
              "      <td>4.081565</td>\n",
              "      <td>4.106061</td>\n",
              "      <td>198</td>\n",
              "      <td>Lord of the Rings: The Fellowship of the Ring,...</td>\n",
              "    </tr>\n",
              "    <tr>\n",
              "      <th>653</th>\n",
              "      <td>3.833626</td>\n",
              "      <td>4.021277</td>\n",
              "      <td>188</td>\n",
              "      <td>Lord of the Rings: The Two Towers, The (2002)</td>\n",
              "    </tr>\n",
              "    <tr>\n",
              "      <th>3083</th>\n",
              "      <td>3.953273</td>\n",
              "      <td>3.993421</td>\n",
              "      <td>76</td>\n",
              "      <td>Dark Knight Rises, The (2012)</td>\n",
              "    </tr>\n",
              "    <tr>\n",
              "      <th>2804</th>\n",
              "      <td>4.058692</td>\n",
              "      <td>3.989362</td>\n",
              "      <td>47</td>\n",
              "      <td>Harry Potter and the Deathly Hallows: Part 1 (...</td>\n",
              "    </tr>\n",
              "    <tr>\n",
              "      <th>1142</th>\n",
              "      <td>3.848549</td>\n",
              "      <td>3.986842</td>\n",
              "      <td>38</td>\n",
              "      <td>The Machinist (2004)</td>\n",
              "    </tr>\n",
              "    <tr>\n",
              "      <th>785</th>\n",
              "      <td>3.839013</td>\n",
              "      <td>3.974138</td>\n",
              "      <td>58</td>\n",
              "      <td>28 Days Later (2002)</td>\n",
              "    </tr>\n",
              "    <tr>\n",
              "      <th>1756</th>\n",
              "      <td>3.951539</td>\n",
              "      <td>3.945312</td>\n",
              "      <td>64</td>\n",
              "      <td>Children of Men (2006)</td>\n",
              "    </tr>\n",
              "    <tr>\n",
              "      <th>1051</th>\n",
              "      <td>4.043038</td>\n",
              "      <td>3.913978</td>\n",
              "      <td>93</td>\n",
              "      <td>Harry Potter and the Prisoner of Azkaban (2004)</td>\n",
              "    </tr>\n",
              "    <tr>\n",
              "      <th>2967</th>\n",
              "      <td>3.847345</td>\n",
              "      <td>3.910000</td>\n",
              "      <td>50</td>\n",
              "      <td>Harry Potter and the Deathly Hallows: Part 2 (...</td>\n",
              "    </tr>\n",
              "    <tr>\n",
              "      <th>2455</th>\n",
              "      <td>3.837861</td>\n",
              "      <td>3.887931</td>\n",
              "      <td>58</td>\n",
              "      <td>Harry Potter and the Half-Blood Prince (2009)</td>\n",
              "    </tr>\n",
              "    <tr>\n",
              "      <th>246</th>\n",
              "      <td>4.897678</td>\n",
              "      <td>3.867647</td>\n",
              "      <td>170</td>\n",
              "      <td>Shrek (2001)</td>\n",
              "    </tr>\n",
              "    <tr>\n",
              "      <th>2403</th>\n",
              "      <td>4.098567</td>\n",
              "      <td>3.864407</td>\n",
              "      <td>59</td>\n",
              "      <td>Star Trek (2009)</td>\n",
              "    </tr>\n",
              "    <tr>\n",
              "      <th>1930</th>\n",
              "      <td>3.863261</td>\n",
              "      <td>3.862069</td>\n",
              "      <td>58</td>\n",
              "      <td>Harry Potter and the Order of the Phoenix (2007)</td>\n",
              "    </tr>\n",
              "    <tr>\n",
              "      <th>1150</th>\n",
              "      <td>4.891619</td>\n",
              "      <td>3.836000</td>\n",
              "      <td>125</td>\n",
              "      <td>Incredibles, The (2004)</td>\n",
              "    </tr>\n",
              "    <tr>\n",
              "      <th>793</th>\n",
              "      <td>4.870530</td>\n",
              "      <td>3.778523</td>\n",
              "      <td>149</td>\n",
              "      <td>Pirates of the Caribbean: The Curse of the Bla...</td>\n",
              "    </tr>\n",
              "    <tr>\n",
              "      <th>366</th>\n",
              "      <td>4.840266</td>\n",
              "      <td>3.761682</td>\n",
              "      <td>107</td>\n",
              "      <td>Harry Potter and the Sorcerer's Stone (a.k.a. ...</td>\n",
              "    </tr>\n",
              "    <tr>\n",
              "      <th>622</th>\n",
              "      <td>4.916328</td>\n",
              "      <td>3.598039</td>\n",
              "      <td>102</td>\n",
              "      <td>Harry Potter and the Chamber of Secrets (2002)</td>\n",
              "    </tr>\n",
              "  </tbody>\n",
              "</table>\n",
              "</div>\n",
              "      <button class=\"colab-df-convert\" onclick=\"convertToInteractive('df-e179dc23-a997-404c-8528-2b8bfefc3ffd')\"\n",
              "              title=\"Convert this dataframe to an interactive table.\"\n",
              "              style=\"display:none;\">\n",
              "        \n",
              "  <svg xmlns=\"http://www.w3.org/2000/svg\" height=\"24px\"viewBox=\"0 0 24 24\"\n",
              "       width=\"24px\">\n",
              "    <path d=\"M0 0h24v24H0V0z\" fill=\"none\"/>\n",
              "    <path d=\"M18.56 5.44l.94 2.06.94-2.06 2.06-.94-2.06-.94-.94-2.06-.94 2.06-2.06.94zm-11 1L8.5 8.5l.94-2.06 2.06-.94-2.06-.94L8.5 2.5l-.94 2.06-2.06.94zm10 10l.94 2.06.94-2.06 2.06-.94-2.06-.94-.94-2.06-.94 2.06-2.06.94z\"/><path d=\"M17.41 7.96l-1.37-1.37c-.4-.4-.92-.59-1.43-.59-.52 0-1.04.2-1.43.59L10.3 9.45l-7.72 7.72c-.78.78-.78 2.05 0 2.83L4 21.41c.39.39.9.59 1.41.59.51 0 1.02-.2 1.41-.59l7.78-7.78 2.81-2.81c.8-.78.8-2.07 0-2.86zM5.41 20L4 18.59l7.72-7.72 1.47 1.35L5.41 20z\"/>\n",
              "  </svg>\n",
              "      </button>\n",
              "      \n",
              "  <style>\n",
              "    .colab-df-container {\n",
              "      display:flex;\n",
              "      flex-wrap:wrap;\n",
              "      gap: 12px;\n",
              "    }\n",
              "\n",
              "    .colab-df-convert {\n",
              "      background-color: #E8F0FE;\n",
              "      border: none;\n",
              "      border-radius: 50%;\n",
              "      cursor: pointer;\n",
              "      display: none;\n",
              "      fill: #1967D2;\n",
              "      height: 32px;\n",
              "      padding: 0 0 0 0;\n",
              "      width: 32px;\n",
              "    }\n",
              "\n",
              "    .colab-df-convert:hover {\n",
              "      background-color: #E2EBFA;\n",
              "      box-shadow: 0px 1px 2px rgba(60, 64, 67, 0.3), 0px 1px 3px 1px rgba(60, 64, 67, 0.15);\n",
              "      fill: #174EA6;\n",
              "    }\n",
              "\n",
              "    [theme=dark] .colab-df-convert {\n",
              "      background-color: #3B4455;\n",
              "      fill: #D2E3FC;\n",
              "    }\n",
              "\n",
              "    [theme=dark] .colab-df-convert:hover {\n",
              "      background-color: #434B5C;\n",
              "      box-shadow: 0px 1px 3px 1px rgba(0, 0, 0, 0.15);\n",
              "      filter: drop-shadow(0px 1px 2px rgba(0, 0, 0, 0.3));\n",
              "      fill: #FFFFFF;\n",
              "    }\n",
              "  </style>\n",
              "\n",
              "      <script>\n",
              "        const buttonEl =\n",
              "          document.querySelector('#df-e179dc23-a997-404c-8528-2b8bfefc3ffd button.colab-df-convert');\n",
              "        buttonEl.style.display =\n",
              "          google.colab.kernel.accessAllowed ? 'block' : 'none';\n",
              "\n",
              "        async function convertToInteractive(key) {\n",
              "          const element = document.querySelector('#df-e179dc23-a997-404c-8528-2b8bfefc3ffd');\n",
              "          const dataTable =\n",
              "            await google.colab.kernel.invokeFunction('convertToInteractive',\n",
              "                                                     [key], {});\n",
              "          if (!dataTable) return;\n",
              "\n",
              "          const docLinkHtml = 'Like what you see? Visit the ' +\n",
              "            '<a target=\"_blank\" href=https://colab.research.google.com/notebooks/data_table.ipynb>data table notebook</a>'\n",
              "            + ' to learn more about interactive tables.';\n",
              "          element.innerHTML = '';\n",
              "          dataTable['output_type'] = 'display_data';\n",
              "          await google.colab.output.renderOutput(dataTable, element);\n",
              "          const docLink = document.createElement('div');\n",
              "          docLink.innerHTML = docLinkHtml;\n",
              "          element.appendChild(docLink);\n",
              "        }\n",
              "      </script>\n",
              "    </div>\n",
              "  </div>\n",
              "  "
            ]
          },
          "metadata": {},
          "execution_count": 22
        }
      ]
    }
  ]
}